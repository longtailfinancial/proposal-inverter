{
 "cells": [
  {
   "cell_type": "markdown",
   "id": "d925a1c7",
   "metadata": {},
   "source": [
    "# Manufacturing Features for Matrix Factorization"
   ]
  },
  {
   "cell_type": "markdown",
   "id": "7c7022b0",
   "metadata": {},
   "source": [
    "## 1 Introduction"
   ]
  },
  {
   "cell_type": "markdown",
   "id": "93eaed26",
   "metadata": {},
   "source": [
    "Given that we don't currently have data to find latent features using matrix factorization, we will attempt to manufacture features based on quantifiable variables from the wallets and proposals themselves. Though these numbers may not be used for an actual reccomendation engine when real data is available, it may be used as a best \"first guess\" or as a bias for the latent features the machine learning provides."
   ]
  },
  {
   "cell_type": "markdown",
   "id": "82d89034",
   "metadata": {},
   "source": [
    "Let's review a bit. Given a wallet feature vector $\\vec{w}_i \\in \\mathbb{R}^{N_f}$ and proposal feature vector $\\vec{p}_j \\in \\mathbb{R}^{N_f}$, where $N_f$ is the number of features and each element in a given feature vector is limited to a value of $[0, 1]$, the probability for wallet $i$ to perform an action $a$ on a proposal $j$ is given by\n",
    "\n",
    "$$ p_{a,i,j} = \\frac{\\vec{w}_i^T \\cdot \\vec{p}_j}{N_f} $$\n",
    "\n",
    "Thus, higher values in the feature vector will result in a higher overall probability."
   ]
  },
  {
   "cell_type": "markdown",
   "id": "2da93ba6",
   "metadata": {},
   "source": [
    "As a simple model, we are going to going to attempt to replicate a simulation done in the past where, in general, wallets with more funds have a higher probability of funding a proposal and wallets with fewer funds have a lower probability of funding a proposal. In other words, the amount of funds a wallet has is directly proportional to its probability of being a funder. The other features will help decide which proposal in particular that wallet will fund."
   ]
  },
  {
   "cell_type": "markdown",
   "id": "098c1479",
   "metadata": {},
   "source": [
    "## 2 Defining the Feature Vector"
   ]
  },
  {
   "cell_type": "markdown",
   "id": "5790bb4f",
   "metadata": {},
   "source": [
    "We are going to look through the quantitative qualities of the wallets and proposals and define its relationship to the probability."
   ]
  },
  {
   "cell_type": "markdown",
   "id": "1cac58ad",
   "metadata": {},
   "source": [
    "| Wallet Feature | Proposal Feature | Relationship to Probability | Reasoning |\n",
    "|:---------------|:-----------------|:----------------------------|:----------|\n",
    "| Funds | | Increasing | Wallets with more funds are more likely to fund proposals |\n",
    "| | Funds | Decreasing | Proposals with fewer funds are in greater need of funding |\n",
    "| | Epochs | Increasing | Proposals with longer lifespans are more likely to continue receiving funding |\n",
    "| | Horizon | Increasing | Proposals with a long-term plan are more likely to receive funding |\n",
    "| | Allocation | Increasing | Proposals with a high burn rate are in greater need of funding |"
   ]
  },
  {
   "cell_type": "markdown",
   "id": "9e2bb6d6",
   "metadata": {},
   "source": [
    "Any place without a label will be given a semi-random number to emulate a wallet's particular preference for that type of proposal."
   ]
  },
  {
   "cell_type": "markdown",
   "id": "6e56eaf7",
   "metadata": {},
   "source": [
    "All of these feature values have a range of $[0, \\infty]$, so we want to map these values to a range of either $[0, 1]$ or $[-1, 1]$. One way to do this is the logistic function\n",
    "\n",
    "$$ L(x) = \\frac{L_{\\text{max}}}{1 + e^{-k (x - x_0)}} $$\n",
    "\n",
    "where $L_{\\text{max}}$ is the maximum value, $k$ is the logistic growth, and $x_0$ is the sigmoid's midpoint. In our case, $L_{\\text{max}} = 1$, so what we have to determine is $k$ and $x_0$."
   ]
  },
  {
   "cell_type": "markdown",
   "id": "e2b7428e",
   "metadata": {},
   "source": [
    "The obvious candidate for $x_0$ is $x_0 = \\frac{1}{2} \\max(f_i)$, where $\\max(f_i)$ is the maximum value in the system for feature $i$. It should be noted that this choice has the strong disadvantage of being unstable and may change often when the system is small. The point of using the logistic function is to group together the extreme values on either end and differentiate the values in the middle, so we have to choose a $k$ that optimizes this."
   ]
  },
  {
   "cell_type": "code",
   "execution_count": null,
   "id": "d3bf4cab",
   "metadata": {},
   "outputs": [],
   "source": []
  }
 ],
 "metadata": {
  "kernelspec": {
   "display_name": "vpython",
   "language": "python",
   "name": "vpython"
  },
  "language_info": {
   "codemirror_mode": {
    "name": "ipython",
    "version": 3
   },
   "file_extension": ".py",
   "mimetype": "text/x-python",
   "name": "python",
   "nbconvert_exporter": "python",
   "pygments_lexer": "ipython3",
   "version": "3.10.2"
  }
 },
 "nbformat": 4,
 "nbformat_minor": 5
}
